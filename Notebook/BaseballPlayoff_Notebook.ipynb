{
 "cells": [
  {
   "attachments": {},
   "cell_type": "markdown",
   "metadata": {},
   "source": [
    "# Baseball Playoff Prediction"
   ]
  },
  {
   "cell_type": "code",
   "execution_count": 164,
   "metadata": {},
   "outputs": [],
   "source": [
    "# Import libraries\n",
    "import pandas as pd\n",
    "import numpy as np\n",
    "import matplotlib.pyplot as plt\n",
    "%matplotlib inline\n",
    "from sklearn.preprocessing import OneHotEncoder, OrdinalEncoder\n",
    "from pyspark.sql import SparkSession\n",
    "from pyspark.ml import Pipeline\n",
    "from pyspark.sql.functions import mean, col, when, isnull, count, create_map, lit, isnan\n",
    "from sklearn.model_selection import train_test_split\n",
    "from imblearn.over_sampling import SMOTE\n",
    "from imblearn.under_sampling import RandomUnderSampler\n",
    "from imblearn.pipeline import Pipeline\n",
    "from collections import Counter\n",
    "import tensorflow as tf\n",
    "from tensorflow import keras\n",
    "from tensorflow.keras.models import Sequential\n",
    "from tensorflow.keras.layers import Dense\n",
    "from sklearn.metrics import classification_report, confusion_matrix"
   ]
  },
  {
   "attachments": {},
   "cell_type": "markdown",
   "metadata": {},
   "source": [
    "## EDA"
   ]
  },
  {
   "cell_type": "code",
   "execution_count": 72,
   "metadata": {},
   "outputs": [],
   "source": [
    "# Create Spark Session\n",
    "spark = SparkSession.builder.appName('BaseballPred').getOrCreate()\n",
    "baseballdata = spark.read.csv('../Data/baseball.csv', header=True, inferSchema=True)"
   ]
  },
  {
   "cell_type": "code",
   "execution_count": 73,
   "metadata": {},
   "outputs": [
    {
     "name": "stdout",
     "output_type": "stream",
     "text": [
      "root\n",
      " |-- Team: string (nullable = true)\n",
      " |-- League: string (nullable = true)\n",
      " |-- Year: integer (nullable = true)\n",
      " |-- RS: integer (nullable = true)\n",
      " |-- RA: integer (nullable = true)\n",
      " |-- W: integer (nullable = true)\n",
      " |-- OBP: double (nullable = true)\n",
      " |-- SLG: double (nullable = true)\n",
      " |-- BA: double (nullable = true)\n",
      " |-- Playoffs: integer (nullable = true)\n",
      " |-- RankSeason: integer (nullable = true)\n",
      " |-- RankPlayoffs: integer (nullable = true)\n",
      " |-- G: integer (nullable = true)\n",
      " |-- OOBP: double (nullable = true)\n",
      " |-- OSLG: double (nullable = true)\n",
      "\n"
     ]
    }
   ],
   "source": [
    "baseballdata.printSchema()"
   ]
  },
  {
   "cell_type": "code",
   "execution_count": 74,
   "metadata": {},
   "outputs": [
    {
     "name": "stdout",
     "output_type": "stream",
     "text": [
      "+----+------+----+---+---+---+-----+-----+-----+--------+----------+------------+---+-----+-----+\n",
      "|Team|League|Year| RS| RA|  W|  OBP|  SLG|   BA|Playoffs|RankSeason|RankPlayoffs|  G| OOBP| OSLG|\n",
      "+----+------+----+---+---+---+-----+-----+-----+--------+----------+------------+---+-----+-----+\n",
      "| ARI|    NL|2012|734|688| 81|0.328|0.418|0.259|       0|      null|        null|162|0.317|0.415|\n",
      "| ATL|    NL|2012|700|600| 94| 0.32|0.389|0.247|       1|         4|           5|162|0.306|0.378|\n",
      "| BAL|    AL|2012|712|705| 93|0.311|0.417|0.247|       1|         5|           4|162|0.315|0.403|\n",
      "| BOS|    AL|2012|734|806| 69|0.315|0.415| 0.26|       0|      null|        null|162|0.331|0.428|\n",
      "| CHC|    NL|2012|613|759| 61|0.302|0.378| 0.24|       0|      null|        null|162|0.335|0.424|\n",
      "+----+------+----+---+---+---+-----+-----+-----+--------+----------+------------+---+-----+-----+\n",
      "only showing top 5 rows\n",
      "\n"
     ]
    }
   ],
   "source": [
    "baseballdata.show(5)"
   ]
  },
  {
   "cell_type": "code",
   "execution_count": 75,
   "metadata": {},
   "outputs": [
    {
     "name": "stdout",
     "output_type": "stream",
     "text": [
      "1232\n",
      "15\n"
     ]
    }
   ],
   "source": [
    "# Number of rows and columns\n",
    "print(baseballdata.count())\n",
    "print(len(baseballdata.columns))"
   ]
  },
  {
   "cell_type": "code",
   "execution_count": 76,
   "metadata": {},
   "outputs": [
    {
     "data": {
      "text/plain": [
       "6"
      ]
     },
     "execution_count": 76,
     "metadata": {},
     "output_type": "execute_result"
    }
   ],
   "source": [
    "# Let's see how many distinct values there are in RankPlayoffs\n",
    "baseballdata.select('RankPlayoffs').distinct().count()"
   ]
  },
  {
   "cell_type": "code",
   "execution_count": 77,
   "metadata": {},
   "outputs": [
    {
     "data": {
      "text/plain": [
       "988"
      ]
     },
     "execution_count": 77,
     "metadata": {},
     "output_type": "execute_result"
    }
   ],
   "source": [
    "baseballdata.filter(baseballdata.RankSeason.isNull()).count()"
   ]
  },
  {
   "cell_type": "code",
   "execution_count": 78,
   "metadata": {},
   "outputs": [
    {
     "name": "stdout",
     "output_type": "stream",
     "text": [
      "+---+\n",
      "|  G|\n",
      "+---+\n",
      "|159|\n",
      "|164|\n",
      "|163|\n",
      "|165|\n",
      "|161|\n",
      "|162|\n",
      "|160|\n",
      "|158|\n",
      "+---+\n",
      "\n"
     ]
    }
   ],
   "source": [
    "baseballdata.select('G').distinct().show()"
   ]
  },
  {
   "attachments": {},
   "cell_type": "markdown",
   "metadata": {},
   "source": [
    "Since we want to predict what takes a team to make it to the playoffs based on their regular season results, we will remove RankPlayoffs as that is the result of a team making it to the playoffs and that does not contribute to our prediction. We also will remove RankSeason as a majority of the data is null, thus not improving the model. As a note, since the data was up to 2012, there were 5 teams each AL and NL in the playoffs. Thus, that gives us the distinct count of 6 since teams could be ranked 1 through 5 and the rest would be null if they didn't make it to the playoffs.\n",
    "\n",
    "MLB season consists of 162 regular season games, which doesn't include Spring Training, the All-Star Game, and the postseason. They can play fewer games if a game is rained out and cannot be made up. Teams may play more games if two teams are tied for a playoff spot."
   ]
  },
  {
   "cell_type": "code",
   "execution_count": 79,
   "metadata": {},
   "outputs": [],
   "source": [
    "# asterisk unpacks the list -- (*['RankSeason', 'RankPlayoffs'] --> ('RankSeason', 'RankPlayoffs'))\n",
    "col_to_drop = ['RankSeason', 'RankPlayoffs']\n",
    "baseballdata = baseballdata.drop(*col_to_drop)"
   ]
  },
  {
   "cell_type": "code",
   "execution_count": 80,
   "metadata": {},
   "outputs": [
    {
     "name": "stdout",
     "output_type": "stream",
     "text": [
      "+----+------+----+---+---+---+-----+-----+-----+--------+---+-----+-----+\n",
      "|Team|League|Year| RS| RA|  W|  OBP|  SLG|   BA|Playoffs|  G| OOBP| OSLG|\n",
      "+----+------+----+---+---+---+-----+-----+-----+--------+---+-----+-----+\n",
      "| ARI|    NL|2012|734|688| 81|0.328|0.418|0.259|       0|162|0.317|0.415|\n",
      "| ATL|    NL|2012|700|600| 94| 0.32|0.389|0.247|       1|162|0.306|0.378|\n",
      "| BAL|    AL|2012|712|705| 93|0.311|0.417|0.247|       1|162|0.315|0.403|\n",
      "| BOS|    AL|2012|734|806| 69|0.315|0.415| 0.26|       0|162|0.331|0.428|\n",
      "| CHC|    NL|2012|613|759| 61|0.302|0.378| 0.24|       0|162|0.335|0.424|\n",
      "| CHW|    AL|2012|748|676| 85|0.318|0.422|0.255|       0|162|0.319|0.405|\n",
      "| CIN|    NL|2012|669|588| 97|0.315|0.411|0.251|       1|162|0.305| 0.39|\n",
      "| CLE|    AL|2012|667|845| 68|0.324|0.381|0.251|       0|162|0.336| 0.43|\n",
      "| COL|    NL|2012|758|890| 64| 0.33|0.436|0.274|       0|162|0.357| 0.47|\n",
      "| DET|    AL|2012|726|670| 88|0.335|0.422|0.268|       1|162|0.314|0.402|\n",
      "| HOU|    NL|2012|583|794| 55|0.302|0.371|0.236|       0|162|0.337|0.427|\n",
      "| KCR|    AL|2012|676|746| 72|0.317|  0.4|0.265|       0|162|0.339|0.423|\n",
      "| LAA|    AL|2012|767|699| 89|0.332|0.433|0.274|       0|162| 0.31|0.403|\n",
      "| LAD|    NL|2012|637|597| 86|0.317|0.374|0.252|       0|162| 0.31|0.364|\n",
      "| MIA|    NL|2012|609|724| 69|0.308|0.382|0.244|       0|162|0.327|0.399|\n",
      "| MIL|    NL|2012|776|733| 83|0.325|0.437|0.259|       0|162|0.326|0.414|\n",
      "| MIN|    AL|2012|701|832| 66|0.325| 0.39| 0.26|       0|162|0.333|0.442|\n",
      "| NYM|    NL|2012|650|709| 74|0.316|0.386|0.249|       0|162|0.315|0.401|\n",
      "| NYY|    AL|2012|804|668| 95|0.337|0.453|0.265|       1|162|0.311|0.419|\n",
      "| OAK|    AL|2012|713|614| 94| 0.31|0.404|0.238|       1|162|0.306|0.378|\n",
      "+----+------+----+---+---+---+-----+-----+-----+--------+---+-----+-----+\n",
      "only showing top 20 rows\n",
      "\n"
     ]
    }
   ],
   "source": [
    "baseballdata.show()"
   ]
  },
  {
   "cell_type": "code",
   "execution_count": 81,
   "metadata": {},
   "outputs": [
    {
     "name": "stdout",
     "output_type": "stream",
     "text": [
      "+----+------+----+---+---+---+---+---+---+--------+---+----+----+\n",
      "|Team|League|Year| RS| RA|  W|OBP|SLG| BA|Playoffs|  G|OOBP|OSLG|\n",
      "+----+------+----+---+---+---+---+---+---+--------+---+----+----+\n",
      "|   0|     0|   0|  0|  0|  0|  0|  0|  0|       0|  0| 812| 812|\n",
      "+----+------+----+---+---+---+---+---+---+--------+---+----+----+\n",
      "\n"
     ]
    }
   ],
   "source": [
    "baseballdata.select([count(when(isnan(c)|col(c).isNull(),c)).alias(c) for c in baseballdata.columns]).show()"
   ]
  },
  {
   "cell_type": "code",
   "execution_count": 82,
   "metadata": {},
   "outputs": [
    {
     "name": "stdout",
     "output_type": "stream",
     "text": [
      "+-------+-------------------+\n",
      "|summary|               OOBP|\n",
      "+-------+-------------------+\n",
      "|  count|                420|\n",
      "|   mean|0.33226428571428523|\n",
      "| stddev| 0.0152953160413899|\n",
      "|    min|              0.294|\n",
      "|    25%|              0.321|\n",
      "|    50%|              0.331|\n",
      "|    75%|              0.343|\n",
      "|    max|              0.384|\n",
      "+-------+-------------------+\n",
      "\n"
     ]
    }
   ],
   "source": [
    "baseballdata.select('OOBP').summary().show()"
   ]
  },
  {
   "cell_type": "code",
   "execution_count": 83,
   "metadata": {},
   "outputs": [
    {
     "name": "stdout",
     "output_type": "stream",
     "text": [
      "+-------+--------------------+\n",
      "|summary|                OSLG|\n",
      "+-------+--------------------+\n",
      "|  count|                 420|\n",
      "|   mean| 0.41974285714285714|\n",
      "| stddev|0.026509611377709855|\n",
      "|    min|               0.346|\n",
      "|    25%|               0.401|\n",
      "|    50%|               0.419|\n",
      "|    75%|               0.438|\n",
      "|    max|               0.499|\n",
      "+-------+--------------------+\n",
      "\n"
     ]
    }
   ],
   "source": [
    "baseballdata.select('OSLG').summary().show()"
   ]
  },
  {
   "cell_type": "code",
   "execution_count": 84,
   "metadata": {},
   "outputs": [
    {
     "name": "stdout",
     "output_type": "stream",
     "text": [
      "+----+\n",
      "|Year|\n",
      "+----+\n",
      "|1990|\n",
      "|1975|\n",
      "|1977|\n",
      "|1974|\n",
      "|1978|\n",
      "|1997|\n",
      "|1988|\n",
      "|1968|\n",
      "|1973|\n",
      "|1979|\n",
      "|1971|\n",
      "|1966|\n",
      "|1991|\n",
      "|1967|\n",
      "|1969|\n",
      "|1982|\n",
      "|1996|\n",
      "|1989|\n",
      "|1998|\n",
      "|1963|\n",
      "|1965|\n",
      "|1985|\n",
      "|1970|\n",
      "|1987|\n",
      "|1980|\n",
      "|1992|\n",
      "|1983|\n",
      "|1984|\n",
      "|1964|\n",
      "|1986|\n",
      "|1976|\n",
      "|1962|\n",
      "|1993|\n",
      "+----+\n",
      "\n"
     ]
    }
   ],
   "source": [
    "baseballdata.filter(baseballdata.OOBP.isNull()).select('Year').distinct().show(n=40)"
   ]
  },
  {
   "cell_type": "code",
   "execution_count": 85,
   "metadata": {},
   "outputs": [
    {
     "name": "stdout",
     "output_type": "stream",
     "text": [
      "+----+------+----+----+----+---+-----+-----+-----+--------+---+-----+-----+\n",
      "|Team|League|Year|  RS|  RA|  W|  OBP|  SLG|   BA|Playoffs|  G| OOBP| OSLG|\n",
      "+----+------+----+----+----+---+-----+-----+-----+--------+---+-----+-----+\n",
      "| ANA|    AL|1999| 711| 826| 70|0.322|0.395|0.256|       0|162|0.346|0.427|\n",
      "| ARI|    NL|1999| 908| 676|100|0.347|0.459|0.277|       1|162| 0.32|0.402|\n",
      "| ATL|    NL|1999| 840| 661|103|0.341|0.436|0.266|       1|162|0.314|0.377|\n",
      "| BAL|    AL|1999| 851| 815| 78|0.353|0.447|0.279|       0|162| 0.35|0.441|\n",
      "| BOS|    AL|1999| 836| 718| 94| 0.35|0.448|0.278|       1|162|0.315|0.398|\n",
      "| CHC|    NL|1999| 747| 920| 67|0.329| 0.42|0.257|       0|162|0.346|0.467|\n",
      "| CHW|    AL|1999| 777| 870| 75|0.337|0.429|0.277|       0|162|0.353|0.447|\n",
      "| CIN|    NL|1999| 865| 711| 96|0.341|0.451|0.272|       0|163|0.324|0.411|\n",
      "| CLE|    AL|1999|1009| 860| 97|0.373|0.467|0.289|       1|162|0.347|0.439|\n",
      "| COL|    NL|1999| 906|1028| 72|0.348|0.472|0.288|       0|162|0.384|0.499|\n",
      "| DET|    AL|1999| 747| 882| 69|0.326|0.443|0.261|       0|161|0.349|0.451|\n",
      "| FLA|    NL|1999| 691| 852| 64|0.325|0.395|0.263|       0|162|0.359| 0.44|\n",
      "| HOU|    NL|1999| 823| 675| 97|0.355| 0.42|0.267|       1|162|0.326|0.397|\n",
      "| KCR|    AL|1999| 856| 921| 64|0.348|0.433|0.282|       0|161|0.365|0.454|\n",
      "| LAD|    NL|1999| 793| 787| 77|0.339| 0.42|0.266|       0|162|0.336|0.422|\n",
      "| MIL|    NL|1999| 815| 886| 74|0.353|0.426|0.273|       0|161|0.356|0.457|\n",
      "| MIN|    AL|1999| 686| 845| 63|0.328|0.384|0.264|       0|161|0.342|0.465|\n",
      "| MON|    NL|1999| 718| 853| 68|0.323|0.427|0.265|       0|162|0.342|0.418|\n",
      "| NYM|    NL|1999| 853| 711| 97|0.363|0.434|0.279|       1|163|0.331|0.418|\n",
      "| NYY|    AL|1999| 900| 731| 98|0.366|0.453|0.282|       1|162|0.329|  0.4|\n",
      "+----+------+----+----+----+---+-----+-----+-----+--------+---+-----+-----+\n",
      "only showing top 20 rows\n",
      "\n"
     ]
    }
   ],
   "source": [
    "baseballdata.filter(baseballdata.Year == 1999).show()"
   ]
  },
  {
   "attachments": {},
   "cell_type": "markdown",
   "metadata": {},
   "source": [
    "In years 1972, 1981, 1994, and 1995, there is no baseball data as there were player strikes during these years. Furthermore, prior to the 1999 season, there is no data on OOBP and OSLG, as they most likely did not have the technology to keep track of these data. Since baseball has also changed with technology, and OOBP and OSLG are important measurements to a team's performance, I will include data from 1999 to 2012."
   ]
  },
  {
   "cell_type": "code",
   "execution_count": 86,
   "metadata": {},
   "outputs": [],
   "source": [
    "baseballdata = baseballdata.filter(baseballdata.Year >= 1999)"
   ]
  },
  {
   "cell_type": "code",
   "execution_count": 87,
   "metadata": {},
   "outputs": [
    {
     "data": {
      "text/plain": [
       "420"
      ]
     },
     "execution_count": 87,
     "metadata": {},
     "output_type": "execute_result"
    }
   ],
   "source": [
    "baseballdata.count()"
   ]
  },
  {
   "cell_type": "code",
   "execution_count": 176,
   "metadata": {},
   "outputs": [],
   "source": [
    "# Converting to pandas df\n",
    "bb_df = baseballdata.toPandas()"
   ]
  },
  {
   "cell_type": "code",
   "execution_count": 124,
   "metadata": {},
   "outputs": [
    {
     "data": {
      "image/png": "[encoded data removed]",
      "text/plain": [
       "<Figure size 720x432 with 2 Axes>"
      ]
     },
     "metadata": {
      "needs_background": "light"
     },
     "output_type": "display_data"
    }
   ],
   "source": [
    "# Correlation Matrix\n",
    "cor = bb_df.corr()\n",
    "f = plt.figure(figsize=(10,6))\n",
    "plt.matshow(cor, fignum=f.number)\n",
    "plt.xticks(range(len(cor.columns)), cor.columns, fontsize=7, rotation = 90)\n",
    "plt.yticks(range(len(cor.columns)), cor.columns, fontsize=7)\n",
    "cb = plt.colorbar()\n",
    "cb.ax.tick_params(labelsize=7)\n",
    "plt.title(\"Correlation Matrix\", fontsize = 9)\n",
    "plt.show()"
   ]
  },
  {
   "attachments": {},
   "cell_type": "markdown",
   "metadata": {},
   "source": [
    "It is important to note that there are predictors that are highly correlated to each other due to the fact that many of these calculations stem from similar metrics. Multicollinearity can lead to predictions being overfitted on a certain set of features, which can impact the signficance of another variable that could have more predicting power. We will handle this situation in the feature engineering portion."
   ]
  },
  {
   "attachments": {},
   "cell_type": "markdown",
   "metadata": {},
   "source": [
    "## Feature Engineering"
   ]
  },
  {
   "cell_type": "code",
   "execution_count": null,
   "metadata": {},
   "outputs": [],
   "source": [
    "# Win percentage\n",
    "# Encoding for Year, League, Team\n",
    "# Class imbalance\n",
    "# OBP + SLG = OPS same with OOBP and OSLG -- can drop the original columns after"
   ]
  },
  {
   "cell_type": "code",
   "execution_count": 177,
   "metadata": {},
   "outputs": [],
   "source": [
    "def clean_data(df):\n",
    "    df['OPS'] = df['OBP'] + df['SLG']\n",
    "    df['OOPS'] = df['OOBP'] + df['OSLG']\n",
    "    df['W_PCT'] = df['W']/df['G']\n",
    "\n",
    "    # One hot encoding\n",
    "    onehotencoder = OneHotEncoder()\n",
    "    onehotencoder_df = pd.DataFrame(onehotencoder.fit_transform(df[['Team', 'League']]).toarray())\n",
    "    onehotencoder_df.columns = onehotencoder.get_feature_names_out(['Team', 'League'])\n",
    "    ordencoder = OrdinalEncoder()\n",
    "    ordencoder_df = pd.DataFrame(ordencoder.fit_transform(df[['Year']]))\n",
    "    df = df.join(onehotencoder_df)\n",
    "    df['Year'] = ordencoder_df\n",
    "    df = df.drop(columns=['OBP', 'SLG', 'OOBP','OSLG','W', 'G','Team', 'League'])\n",
    "    return df"
   ]
  },
  {
   "cell_type": "code",
   "execution_count": 178,
   "metadata": {},
   "outputs": [],
   "source": [
    "bb_df = clean_data(bb_df)"
   ]
  },
  {
   "cell_type": "code",
   "execution_count": 179,
   "metadata": {},
   "outputs": [
    {
     "data": {
      "text/html": [
       "<div>\n",
       "<style scoped>\n",
       "    .dataframe tbody tr th:only-of-type {\n",
       "        vertical-align: middle;\n",
       "    }\n",
       "\n",
       "    .dataframe tbody tr th {\n",
       "        vertical-align: top;\n",
       "    }\n",
       "\n",
       "    .dataframe thead th {\n",
       "        text-align: right;\n",
       "    }\n",
       "</style>\n",
       "<table border=\"1\" class=\"dataframe\">\n",
       "  <thead>\n",
       "    <tr style=\"text-align: right;\">\n",
       "      <th></th>\n",
       "      <th>Year</th>\n",
       "      <th>RS</th>\n",
       "      <th>RA</th>\n",
       "      <th>BA</th>\n",
       "      <th>Playoffs</th>\n",
       "      <th>OPS</th>\n",
       "      <th>OOPS</th>\n",
       "      <th>W_PCT</th>\n",
       "      <th>Team_ANA</th>\n",
       "      <th>Team_ARI</th>\n",
       "      <th>Team_ATL</th>\n",
       "      <th>Team_BAL</th>\n",
       "      <th>Team_BOS</th>\n",
       "      <th>Team_CHC</th>\n",
       "      <th>Team_CHW</th>\n",
       "      <th>Team_CIN</th>\n",
       "      <th>Team_CLE</th>\n",
       "      <th>Team_COL</th>\n",
       "      <th>Team_DET</th>\n",
       "      <th>Team_FLA</th>\n",
       "      <th>Team_HOU</th>\n",
       "      <th>Team_KCR</th>\n",
       "      <th>Team_LAA</th>\n",
       "      <th>Team_LAD</th>\n",
       "      <th>Team_MIA</th>\n",
       "      <th>Team_MIL</th>\n",
       "      <th>Team_MIN</th>\n",
       "      <th>Team_MON</th>\n",
       "      <th>Team_NYM</th>\n",
       "      <th>Team_NYY</th>\n",
       "      <th>Team_OAK</th>\n",
       "      <th>Team_PHI</th>\n",
       "      <th>Team_PIT</th>\n",
       "      <th>Team_SDP</th>\n",
       "      <th>Team_SEA</th>\n",
       "      <th>Team_SFG</th>\n",
       "      <th>Team_STL</th>\n",
       "      <th>Team_TBD</th>\n",
       "      <th>Team_TBR</th>\n",
       "      <th>Team_TEX</th>\n",
       "      <th>Team_TOR</th>\n",
       "      <th>Team_WSN</th>\n",
       "      <th>League_AL</th>\n",
       "      <th>League_NL</th>\n",
       "    </tr>\n",
       "  </thead>\n",
       "  <tbody>\n",
       "    <tr>\n",
       "      <th>0</th>\n",
       "      <td>13.0</td>\n",
       "      <td>734</td>\n",
       "      <td>688</td>\n",
       "      <td>0.259</td>\n",
       "      <td>0</td>\n",
       "      <td>0.746</td>\n",
       "      <td>0.732</td>\n",
       "      <td>0.500000</td>\n",
       "      <td>0.0</td>\n",
       "      <td>1.0</td>\n",
       "      <td>0.0</td>\n",
       "      <td>0.0</td>\n",
       "      <td>0.0</td>\n",
       "      <td>0.0</td>\n",
       "      <td>0.0</td>\n",
       "      <td>0.0</td>\n",
       "      <td>0.0</td>\n",
       "      <td>0.0</td>\n",
       "      <td>0.0</td>\n",
       "      <td>0.0</td>\n",
       "      <td>0.0</td>\n",
       "      <td>0.0</td>\n",
       "      <td>0.0</td>\n",
       "      <td>0.0</td>\n",
       "      <td>0.0</td>\n",
       "      <td>0.0</td>\n",
       "      <td>0.0</td>\n",
       "      <td>0.0</td>\n",
       "      <td>0.0</td>\n",
       "      <td>0.0</td>\n",
       "      <td>0.0</td>\n",
       "      <td>0.0</td>\n",
       "      <td>0.0</td>\n",
       "      <td>0.0</td>\n",
       "      <td>0.0</td>\n",
       "      <td>0.0</td>\n",
       "      <td>0.0</td>\n",
       "      <td>0.0</td>\n",
       "      <td>0.0</td>\n",
       "      <td>0.0</td>\n",
       "      <td>0.0</td>\n",
       "      <td>0.0</td>\n",
       "      <td>0.0</td>\n",
       "      <td>1.0</td>\n",
       "    </tr>\n",
       "    <tr>\n",
       "      <th>1</th>\n",
       "      <td>13.0</td>\n",
       "      <td>700</td>\n",
       "      <td>600</td>\n",
       "      <td>0.247</td>\n",
       "      <td>1</td>\n",
       "      <td>0.709</td>\n",
       "      <td>0.684</td>\n",
       "      <td>0.580247</td>\n",
       "      <td>0.0</td>\n",
       "      <td>0.0</td>\n",
       "      <td>1.0</td>\n",
       "      <td>0.0</td>\n",
       "      <td>0.0</td>\n",
       "      <td>0.0</td>\n",
       "      <td>0.0</td>\n",
       "      <td>0.0</td>\n",
       "      <td>0.0</td>\n",
       "      <td>0.0</td>\n",
       "      <td>0.0</td>\n",
       "      <td>0.0</td>\n",
       "      <td>0.0</td>\n",
       "      <td>0.0</td>\n",
       "      <td>0.0</td>\n",
       "      <td>0.0</td>\n",
       "      <td>0.0</td>\n",
       "      <td>0.0</td>\n",
       "      <td>0.0</td>\n",
       "      <td>0.0</td>\n",
       "      <td>0.0</td>\n",
       "      <td>0.0</td>\n",
       "      <td>0.0</td>\n",
       "      <td>0.0</td>\n",
       "      <td>0.0</td>\n",
       "      <td>0.0</td>\n",
       "      <td>0.0</td>\n",
       "      <td>0.0</td>\n",
       "      <td>0.0</td>\n",
       "      <td>0.0</td>\n",
       "      <td>0.0</td>\n",
       "      <td>0.0</td>\n",
       "      <td>0.0</td>\n",
       "      <td>0.0</td>\n",
       "      <td>0.0</td>\n",
       "      <td>1.0</td>\n",
       "    </tr>\n",
       "    <tr>\n",
       "      <th>2</th>\n",
       "      <td>13.0</td>\n",
       "      <td>712</td>\n",
       "      <td>705</td>\n",
       "      <td>0.247</td>\n",
       "      <td>1</td>\n",
       "      <td>0.728</td>\n",
       "      <td>0.718</td>\n",
       "      <td>0.574074</td>\n",
       "      <td>0.0</td>\n",
       "      <td>0.0</td>\n",
       "      <td>0.0</td>\n",
       "      <td>1.0</td>\n",
       "      <td>0.0</td>\n",
       "      <td>0.0</td>\n",
       "      <td>0.0</td>\n",
       "      <td>0.0</td>\n",
       "      <td>0.0</td>\n",
       "      <td>0.0</td>\n",
       "      <td>0.0</td>\n",
       "      <td>0.0</td>\n",
       "      <td>0.0</td>\n",
       "      <td>0.0</td>\n",
       "      <td>0.0</td>\n",
       "      <td>0.0</td>\n",
       "      <td>0.0</td>\n",
       "      <td>0.0</td>\n",
       "      <td>0.0</td>\n",
       "      <td>0.0</td>\n",
       "      <td>0.0</td>\n",
       "      <td>0.0</td>\n",
       "      <td>0.0</td>\n",
       "      <td>0.0</td>\n",
       "      <td>0.0</td>\n",
       "      <td>0.0</td>\n",
       "      <td>0.0</td>\n",
       "      <td>0.0</td>\n",
       "      <td>0.0</td>\n",
       "      <td>0.0</td>\n",
       "      <td>0.0</td>\n",
       "      <td>0.0</td>\n",
       "      <td>0.0</td>\n",
       "      <td>0.0</td>\n",
       "      <td>1.0</td>\n",
       "      <td>0.0</td>\n",
       "    </tr>\n",
       "    <tr>\n",
       "      <th>3</th>\n",
       "      <td>13.0</td>\n",
       "      <td>734</td>\n",
       "      <td>806</td>\n",
       "      <td>0.260</td>\n",
       "      <td>0</td>\n",
       "      <td>0.730</td>\n",
       "      <td>0.759</td>\n",
       "      <td>0.425926</td>\n",
       "      <td>0.0</td>\n",
       "      <td>0.0</td>\n",
       "      <td>0.0</td>\n",
       "      <td>0.0</td>\n",
       "      <td>1.0</td>\n",
       "      <td>0.0</td>\n",
       "      <td>0.0</td>\n",
       "      <td>0.0</td>\n",
       "      <td>0.0</td>\n",
       "      <td>0.0</td>\n",
       "      <td>0.0</td>\n",
       "      <td>0.0</td>\n",
       "      <td>0.0</td>\n",
       "      <td>0.0</td>\n",
       "      <td>0.0</td>\n",
       "      <td>0.0</td>\n",
       "      <td>0.0</td>\n",
       "      <td>0.0</td>\n",
       "      <td>0.0</td>\n",
       "      <td>0.0</td>\n",
       "      <td>0.0</td>\n",
       "      <td>0.0</td>\n",
       "      <td>0.0</td>\n",
       "      <td>0.0</td>\n",
       "      <td>0.0</td>\n",
       "      <td>0.0</td>\n",
       "      <td>0.0</td>\n",
       "      <td>0.0</td>\n",
       "      <td>0.0</td>\n",
       "      <td>0.0</td>\n",
       "      <td>0.0</td>\n",
       "      <td>0.0</td>\n",
       "      <td>0.0</td>\n",
       "      <td>0.0</td>\n",
       "      <td>1.0</td>\n",
       "      <td>0.0</td>\n",
       "    </tr>\n",
       "    <tr>\n",
       "      <th>4</th>\n",
       "      <td>13.0</td>\n",
       "      <td>613</td>\n",
       "      <td>759</td>\n",
       "      <td>0.240</td>\n",
       "      <td>0</td>\n",
       "      <td>0.680</td>\n",
       "      <td>0.759</td>\n",
       "      <td>0.376543</td>\n",
       "      <td>0.0</td>\n",
       "      <td>0.0</td>\n",
       "      <td>0.0</td>\n",
       "      <td>0.0</td>\n",
       "      <td>0.0</td>\n",
       "      <td>1.0</td>\n",
       "      <td>0.0</td>\n",
       "      <td>0.0</td>\n",
       "      <td>0.0</td>\n",
       "      <td>0.0</td>\n",
       "      <td>0.0</td>\n",
       "      <td>0.0</td>\n",
       "      <td>0.0</td>\n",
       "      <td>0.0</td>\n",
       "      <td>0.0</td>\n",
       "      <td>0.0</td>\n",
       "      <td>0.0</td>\n",
       "      <td>0.0</td>\n",
       "      <td>0.0</td>\n",
       "      <td>0.0</td>\n",
       "      <td>0.0</td>\n",
       "      <td>0.0</td>\n",
       "      <td>0.0</td>\n",
       "      <td>0.0</td>\n",
       "      <td>0.0</td>\n",
       "      <td>0.0</td>\n",
       "      <td>0.0</td>\n",
       "      <td>0.0</td>\n",
       "      <td>0.0</td>\n",
       "      <td>0.0</td>\n",
       "      <td>0.0</td>\n",
       "      <td>0.0</td>\n",
       "      <td>0.0</td>\n",
       "      <td>0.0</td>\n",
       "      <td>0.0</td>\n",
       "      <td>1.0</td>\n",
       "    </tr>\n",
       "    <tr>\n",
       "      <th>...</th>\n",
       "      <td>...</td>\n",
       "      <td>...</td>\n",
       "      <td>...</td>\n",
       "      <td>...</td>\n",
       "      <td>...</td>\n",
       "      <td>...</td>\n",
       "      <td>...</td>\n",
       "      <td>...</td>\n",
       "      <td>...</td>\n",
       "      <td>...</td>\n",
       "      <td>...</td>\n",
       "      <td>...</td>\n",
       "      <td>...</td>\n",
       "      <td>...</td>\n",
       "      <td>...</td>\n",
       "      <td>...</td>\n",
       "      <td>...</td>\n",
       "      <td>...</td>\n",
       "      <td>...</td>\n",
       "      <td>...</td>\n",
       "      <td>...</td>\n",
       "      <td>...</td>\n",
       "      <td>...</td>\n",
       "      <td>...</td>\n",
       "      <td>...</td>\n",
       "      <td>...</td>\n",
       "      <td>...</td>\n",
       "      <td>...</td>\n",
       "      <td>...</td>\n",
       "      <td>...</td>\n",
       "      <td>...</td>\n",
       "      <td>...</td>\n",
       "      <td>...</td>\n",
       "      <td>...</td>\n",
       "      <td>...</td>\n",
       "      <td>...</td>\n",
       "      <td>...</td>\n",
       "      <td>...</td>\n",
       "      <td>...</td>\n",
       "      <td>...</td>\n",
       "      <td>...</td>\n",
       "      <td>...</td>\n",
       "      <td>...</td>\n",
       "      <td>...</td>\n",
       "    </tr>\n",
       "    <tr>\n",
       "      <th>415</th>\n",
       "      <td>0.0</td>\n",
       "      <td>872</td>\n",
       "      <td>831</td>\n",
       "      <td>0.271</td>\n",
       "      <td>0</td>\n",
       "      <td>0.790</td>\n",
       "      <td>0.768</td>\n",
       "      <td>0.530864</td>\n",
       "      <td>0.0</td>\n",
       "      <td>0.0</td>\n",
       "      <td>0.0</td>\n",
       "      <td>0.0</td>\n",
       "      <td>0.0</td>\n",
       "      <td>0.0</td>\n",
       "      <td>0.0</td>\n",
       "      <td>0.0</td>\n",
       "      <td>0.0</td>\n",
       "      <td>0.0</td>\n",
       "      <td>0.0</td>\n",
       "      <td>0.0</td>\n",
       "      <td>0.0</td>\n",
       "      <td>0.0</td>\n",
       "      <td>0.0</td>\n",
       "      <td>0.0</td>\n",
       "      <td>0.0</td>\n",
       "      <td>0.0</td>\n",
       "      <td>0.0</td>\n",
       "      <td>0.0</td>\n",
       "      <td>0.0</td>\n",
       "      <td>0.0</td>\n",
       "      <td>0.0</td>\n",
       "      <td>0.0</td>\n",
       "      <td>0.0</td>\n",
       "      <td>0.0</td>\n",
       "      <td>0.0</td>\n",
       "      <td>1.0</td>\n",
       "      <td>0.0</td>\n",
       "      <td>0.0</td>\n",
       "      <td>0.0</td>\n",
       "      <td>0.0</td>\n",
       "      <td>0.0</td>\n",
       "      <td>0.0</td>\n",
       "      <td>0.0</td>\n",
       "      <td>1.0</td>\n",
       "    </tr>\n",
       "    <tr>\n",
       "      <th>416</th>\n",
       "      <td>0.0</td>\n",
       "      <td>809</td>\n",
       "      <td>838</td>\n",
       "      <td>0.262</td>\n",
       "      <td>0</td>\n",
       "      <td>0.764</td>\n",
       "      <td>0.782</td>\n",
       "      <td>0.465839</td>\n",
       "      <td>0.0</td>\n",
       "      <td>0.0</td>\n",
       "      <td>0.0</td>\n",
       "      <td>0.0</td>\n",
       "      <td>0.0</td>\n",
       "      <td>0.0</td>\n",
       "      <td>0.0</td>\n",
       "      <td>0.0</td>\n",
       "      <td>0.0</td>\n",
       "      <td>0.0</td>\n",
       "      <td>0.0</td>\n",
       "      <td>0.0</td>\n",
       "      <td>0.0</td>\n",
       "      <td>0.0</td>\n",
       "      <td>0.0</td>\n",
       "      <td>0.0</td>\n",
       "      <td>0.0</td>\n",
       "      <td>0.0</td>\n",
       "      <td>0.0</td>\n",
       "      <td>0.0</td>\n",
       "      <td>0.0</td>\n",
       "      <td>0.0</td>\n",
       "      <td>0.0</td>\n",
       "      <td>0.0</td>\n",
       "      <td>0.0</td>\n",
       "      <td>0.0</td>\n",
       "      <td>0.0</td>\n",
       "      <td>0.0</td>\n",
       "      <td>1.0</td>\n",
       "      <td>0.0</td>\n",
       "      <td>0.0</td>\n",
       "      <td>0.0</td>\n",
       "      <td>0.0</td>\n",
       "      <td>0.0</td>\n",
       "      <td>0.0</td>\n",
       "      <td>1.0</td>\n",
       "    </tr>\n",
       "    <tr>\n",
       "      <th>417</th>\n",
       "      <td>0.0</td>\n",
       "      <td>772</td>\n",
       "      <td>913</td>\n",
       "      <td>0.274</td>\n",
       "      <td>0</td>\n",
       "      <td>0.754</td>\n",
       "      <td>0.819</td>\n",
       "      <td>0.425926</td>\n",
       "      <td>0.0</td>\n",
       "      <td>0.0</td>\n",
       "      <td>0.0</td>\n",
       "      <td>0.0</td>\n",
       "      <td>0.0</td>\n",
       "      <td>0.0</td>\n",
       "      <td>0.0</td>\n",
       "      <td>0.0</td>\n",
       "      <td>0.0</td>\n",
       "      <td>0.0</td>\n",
       "      <td>0.0</td>\n",
       "      <td>0.0</td>\n",
       "      <td>0.0</td>\n",
       "      <td>0.0</td>\n",
       "      <td>0.0</td>\n",
       "      <td>0.0</td>\n",
       "      <td>0.0</td>\n",
       "      <td>0.0</td>\n",
       "      <td>0.0</td>\n",
       "      <td>0.0</td>\n",
       "      <td>0.0</td>\n",
       "      <td>0.0</td>\n",
       "      <td>0.0</td>\n",
       "      <td>0.0</td>\n",
       "      <td>0.0</td>\n",
       "      <td>0.0</td>\n",
       "      <td>0.0</td>\n",
       "      <td>0.0</td>\n",
       "      <td>0.0</td>\n",
       "      <td>1.0</td>\n",
       "      <td>0.0</td>\n",
       "      <td>0.0</td>\n",
       "      <td>0.0</td>\n",
       "      <td>0.0</td>\n",
       "      <td>1.0</td>\n",
       "      <td>0.0</td>\n",
       "    </tr>\n",
       "    <tr>\n",
       "      <th>418</th>\n",
       "      <td>0.0</td>\n",
       "      <td>945</td>\n",
       "      <td>859</td>\n",
       "      <td>0.293</td>\n",
       "      <td>1</td>\n",
       "      <td>0.840</td>\n",
       "      <td>0.805</td>\n",
       "      <td>0.586420</td>\n",
       "      <td>0.0</td>\n",
       "      <td>0.0</td>\n",
       "      <td>0.0</td>\n",
       "      <td>0.0</td>\n",
       "      <td>0.0</td>\n",
       "      <td>0.0</td>\n",
       "      <td>0.0</td>\n",
       "      <td>0.0</td>\n",
       "      <td>0.0</td>\n",
       "      <td>0.0</td>\n",
       "      <td>0.0</td>\n",
       "      <td>0.0</td>\n",
       "      <td>0.0</td>\n",
       "      <td>0.0</td>\n",
       "      <td>0.0</td>\n",
       "      <td>0.0</td>\n",
       "      <td>0.0</td>\n",
       "      <td>0.0</td>\n",
       "      <td>0.0</td>\n",
       "      <td>0.0</td>\n",
       "      <td>0.0</td>\n",
       "      <td>0.0</td>\n",
       "      <td>0.0</td>\n",
       "      <td>0.0</td>\n",
       "      <td>0.0</td>\n",
       "      <td>0.0</td>\n",
       "      <td>0.0</td>\n",
       "      <td>0.0</td>\n",
       "      <td>0.0</td>\n",
       "      <td>0.0</td>\n",
       "      <td>0.0</td>\n",
       "      <td>1.0</td>\n",
       "      <td>0.0</td>\n",
       "      <td>0.0</td>\n",
       "      <td>1.0</td>\n",
       "      <td>0.0</td>\n",
       "    </tr>\n",
       "    <tr>\n",
       "      <th>419</th>\n",
       "      <td>0.0</td>\n",
       "      <td>883</td>\n",
       "      <td>862</td>\n",
       "      <td>0.280</td>\n",
       "      <td>0</td>\n",
       "      <td>0.809</td>\n",
       "      <td>0.809</td>\n",
       "      <td>0.518519</td>\n",
       "      <td>0.0</td>\n",
       "      <td>0.0</td>\n",
       "      <td>0.0</td>\n",
       "      <td>0.0</td>\n",
       "      <td>0.0</td>\n",
       "      <td>0.0</td>\n",
       "      <td>0.0</td>\n",
       "      <td>0.0</td>\n",
       "      <td>0.0</td>\n",
       "      <td>0.0</td>\n",
       "      <td>0.0</td>\n",
       "      <td>0.0</td>\n",
       "      <td>0.0</td>\n",
       "      <td>0.0</td>\n",
       "      <td>0.0</td>\n",
       "      <td>0.0</td>\n",
       "      <td>0.0</td>\n",
       "      <td>0.0</td>\n",
       "      <td>0.0</td>\n",
       "      <td>0.0</td>\n",
       "      <td>0.0</td>\n",
       "      <td>0.0</td>\n",
       "      <td>0.0</td>\n",
       "      <td>0.0</td>\n",
       "      <td>0.0</td>\n",
       "      <td>0.0</td>\n",
       "      <td>0.0</td>\n",
       "      <td>0.0</td>\n",
       "      <td>0.0</td>\n",
       "      <td>0.0</td>\n",
       "      <td>0.0</td>\n",
       "      <td>0.0</td>\n",
       "      <td>1.0</td>\n",
       "      <td>0.0</td>\n",
       "      <td>1.0</td>\n",
       "      <td>0.0</td>\n",
       "    </tr>\n",
       "  </tbody>\n",
       "</table>\n",
       "<p>420 rows × 44 columns</p>\n",
       "</div>"
      ],
      "text/plain": [
       "     Year   RS   RA     BA  ...  Team_TOR  Team_WSN  League_AL  League_NL\n",
       "0    13.0  734  688  0.259  ...       0.0       0.0        0.0        1.0\n",
       "1    13.0  700  600  0.247  ...       0.0       0.0        0.0        1.0\n",
       "2    13.0  712  705  0.247  ...       0.0       0.0        1.0        0.0\n",
       "3    13.0  734  806  0.260  ...       0.0       0.0        1.0        0.0\n",
       "4    13.0  613  759  0.240  ...       0.0       0.0        0.0        1.0\n",
       "..    ...  ...  ...    ...  ...       ...       ...        ...        ...\n",
       "415   0.0  872  831  0.271  ...       0.0       0.0        0.0        1.0\n",
       "416   0.0  809  838  0.262  ...       0.0       0.0        0.0        1.0\n",
       "417   0.0  772  913  0.274  ...       0.0       0.0        1.0        0.0\n",
       "418   0.0  945  859  0.293  ...       0.0       0.0        1.0        0.0\n",
       "419   0.0  883  862  0.280  ...       1.0       0.0        1.0        0.0\n",
       "\n",
       "[420 rows x 44 columns]"
      ]
     },
     "execution_count": 179,
     "metadata": {},
     "output_type": "execute_result"
    }
   ],
   "source": [
    "bb_df"
   ]
  },
  {
   "cell_type": "code",
   "execution_count": 180,
   "metadata": {},
   "outputs": [],
   "source": [
    "X = bb_df.drop(['Playoffs'], axis=1)\n",
    "y = bb_df['Playoffs']"
   ]
  },
  {
   "cell_type": "code",
   "execution_count": 181,
   "metadata": {},
   "outputs": [
    {
     "name": "stdout",
     "output_type": "stream",
     "text": [
      "X training data:  (336, 43) ;  y training data:  (336,) ;  X testing data:  (84, 43) ;  y testing data:  (84,)\n"
     ]
    }
   ],
   "source": [
    "X_train, X_test, y_train, y_test = train_test_split(X, y, test_size=0.2, random_state=0)\n",
    "print('X training data: ', X_train.shape, '; ', 'y training data: ', y_train.shape,'; ', 'X testing data: ', X_test.shape,'; ', 'y testing data: ', y_test.shape)"
   ]
  },
  {
   "cell_type": "code",
   "execution_count": 182,
   "metadata": {},
   "outputs": [
    {
     "data": {
      "text/plain": [
       "0    306\n",
       "1    114\n",
       "Name: Playoffs, dtype: int64"
      ]
     },
     "execution_count": 182,
     "metadata": {},
     "output_type": "execute_result"
    }
   ],
   "source": [
    "# Class imbalance\n",
    "bb_df['Playoffs'].value_counts()"
   ]
  },
  {
   "cell_type": "code",
   "execution_count": 184,
   "metadata": {},
   "outputs": [
    {
     "name": "stdout",
     "output_type": "stream",
     "text": [
      "Before Counter({0: 247, 1: 89})\n",
      "After Counter({0: 246, 1: 123})\n"
     ]
    }
   ],
   "source": [
    "# Rebalancing only training data to avoid artificially boosted model scores\n",
    "counter = Counter(y_train)\n",
    "print('Before', counter)\n",
    "over = SMOTE(sampling_strategy=0.5) # oversample minority class to have 50 percent the number of ex of majority class\n",
    "under = RandomUnderSampler(sampling_strategy=0.5) # reduce the number of examples majority class to have 60 percent more than the minority class\n",
    "steps = [('o', over), ('u', under)]\n",
    "pipeline = Pipeline(steps=steps)\n",
    "X_train, y_train = pipeline.fit_resample(X_train, y_train)\n",
    "counter = Counter(y_train)\n",
    "print('After', counter)"
   ]
  },
  {
   "cell_type": "code",
   "execution_count": 185,
   "metadata": {},
   "outputs": [
    {
     "name": "stdout",
     "output_type": "stream",
     "text": [
      "Model: \"sequential_3\"\n",
      "_________________________________________________________________\n",
      " Layer (type)                Output Shape              Param #   \n",
      "=================================================================\n",
      " dense_8 (Dense)             (None, 44)                1936      \n",
      "                                                                 \n",
      " dense_9 (Dense)             (None, 23)                1035      \n",
      "                                                                 \n",
      " dense_10 (Dense)            (None, 1)                 24        \n",
      "                                                                 \n",
      "=================================================================\n",
      "Total params: 2,995\n",
      "Trainable params: 2,995\n",
      "Non-trainable params: 0\n",
      "_________________________________________________________________\n"
     ]
    }
   ],
   "source": [
    "model = Sequential()\n",
    "model.add(Dense(44, input_shape=(43,), activation = 'relu'))\n",
    "model.add(Dense(23, activation = 'relu'))\n",
    "model.add(Dense(1, activation = 'sigmoid'))\n",
    "model.summary()"
   ]
  },
  {
   "cell_type": "code",
   "execution_count": 186,
   "metadata": {},
   "outputs": [
    {
     "name": "stdout",
     "output_type": "stream",
     "text": [
      "Epoch 1/10\n",
      "12/12 [==============================] - 1s 23ms/step - loss: 10.0359 - accuracy: 0.5745 - val_loss: 1.7405 - val_accuracy: 0.7024\n",
      "Epoch 2/10\n",
      "12/12 [==============================] - 0s 4ms/step - loss: 1.8770 - accuracy: 0.6016 - val_loss: 0.3068 - val_accuracy: 0.8452\n",
      "Epoch 3/10\n",
      "12/12 [==============================] - 0s 4ms/step - loss: 0.6377 - accuracy: 0.7940 - val_loss: 0.3914 - val_accuracy: 0.8810\n",
      "Epoch 4/10\n",
      "12/12 [==============================] - 0s 4ms/step - loss: 0.8011 - accuracy: 0.7967 - val_loss: 0.3626 - val_accuracy: 0.8929\n",
      "Epoch 5/10\n",
      "12/12 [==============================] - 0s 4ms/step - loss: 0.6016 - accuracy: 0.8374 - val_loss: 0.4029 - val_accuracy: 0.8929\n",
      "Epoch 6/10\n",
      "12/12 [==============================] - 0s 4ms/step - loss: 0.4971 - accuracy: 0.8537 - val_loss: 0.3236 - val_accuracy: 0.8810\n",
      "Epoch 7/10\n",
      "12/12 [==============================] - 0s 4ms/step - loss: 0.4821 - accuracy: 0.8537 - val_loss: 0.3204 - val_accuracy: 0.8810\n"
     ]
    },
    {
     "data": {
      "text/plain": [
       "<keras.callbacks.History at 0x144442350>"
      ]
     },
     "execution_count": 186,
     "metadata": {},
     "output_type": "execute_result"
    }
   ],
   "source": [
    "callback = tf.keras.callbacks.EarlyStopping(monitor='val_accuracy', patience=3, restore_best_weights=True)\n",
    "model.compile(loss='binary_crossentropy', optimizer='adam', metrics=['accuracy'])\n",
    "model.fit(X_train, y_train, epochs=10, callbacks=[callback], validation_data=(X_test, y_test))"
   ]
  },
  {
   "cell_type": "code",
   "execution_count": 187,
   "metadata": {},
   "outputs": [
    {
     "name": "stdout",
     "output_type": "stream",
     "text": [
      "3/3 [==============================] - 0s 3ms/step - loss: 0.3626 - accuracy: 0.8929\n"
     ]
    },
    {
     "data": {
      "text/plain": [
       "[0.3626396954059601, 0.8928571343421936]"
      ]
     },
     "execution_count": 187,
     "metadata": {},
     "output_type": "execute_result"
    }
   ],
   "source": [
    "model.evaluate(X_test, y_test)"
   ]
  }
 ],
 "metadata": {
  "kernelspec": {
   "display_name": "Python 3",
   "language": "python",
   "name": "python3"
  },
  "language_info": {
   "codemirror_mode": {
    "name": "ipython",
    "version": 3
   },
   "file_extension": ".py",
   "mimetype": "text/x-python",
   "name": "python",
   "nbconvert_exporter": "python",
   "pygments_lexer": "ipython3",
   "version": "3.10.5"
  },
  "orig_nbformat": 4
 },
 "nbformat": 4,
 "nbformat_minor": 2
}
